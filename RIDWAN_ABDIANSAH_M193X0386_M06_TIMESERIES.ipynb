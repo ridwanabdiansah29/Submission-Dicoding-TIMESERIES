{
  "nbformat": 4,
  "nbformat_minor": 0,
  "metadata": {
    "colab": {
      "provenance": [],
      "collapsed_sections": [],
      "authorship_tag": "ABX9TyOXmwwVx0M6eVOjvs1H41Al",
      "include_colab_link": true
    },
    "kernelspec": {
      "name": "python3",
      "display_name": "Python 3"
    },
    "language_info": {
      "name": "python"
    }
  },
  "cells": [
    {
      "cell_type": "markdown",
      "metadata": {
        "id": "view-in-github",
        "colab_type": "text"
      },
      "source": [
        "<a href=\"https://colab.research.google.com/github/ridwanabdiansah29/Submission-Dicoding-TIMESERIES/blob/main/RIDWAN_ABDIANSAH_M193X0386_M06_TIMESERIES.ipynb\" target=\"_parent\"><img src=\"https://colab.research.google.com/assets/colab-badge.svg\" alt=\"Open In Colab\"/></a>"
      ]
    },
    {
      "cell_type": "markdown",
      "source": [
        "Ridwan Abdiansah <br>\n",
        "M193X0386<br>\n",
        "M06"
      ],
      "metadata": {
        "id": "0nXheIQLvLUF"
      }
    },
    {
      "cell_type": "markdown",
      "source": [
        "##Import Library"
      ],
      "metadata": {
        "id": "lH8YodYPvXKN"
      }
    },
    {
      "cell_type": "code",
      "execution_count": 71,
      "metadata": {
        "id": "rkSkK1ES4d4R"
      },
      "outputs": [],
      "source": [
        "import numpy as np\n",
        "import pandas as pd\n",
        "from keras.layers import Dense, LSTM\n",
        "import matplotlib.pyplot as plt\n",
        "import tensorflow as tf"
      ]
    },
    {
      "cell_type": "markdown",
      "source": [
        "##Loading Data"
      ],
      "metadata": {
        "id": "tOtW0tsPv13_"
      }
    },
    {
      "cell_type": "code",
      "source": [
        "df = pd.read_csv('1_Daily_minimum_temps.csv')\n",
        "df.head()"
      ],
      "metadata": {
        "colab": {
          "base_uri": "https://localhost:8080/",
          "height": 206
        },
        "id": "YdHdOWgavZ8a",
        "outputId": "03075a50-b8f6-4d05-8836-6b87d07b3f71"
      },
      "execution_count": 72,
      "outputs": [
        {
          "output_type": "execute_result",
          "data": {
            "text/plain": [
              "       Date  Temp\n",
              "0  01/01/81  20.7\n",
              "1  01/02/81  17.9\n",
              "2  01/03/81  18.8\n",
              "3  01/04/81  14.6\n",
              "4  01/05/81  15.8"
            ],
            "text/html": [
              "\n",
              "  <div id=\"df-cad8f982-4eca-44bd-a3cb-641d334a7c18\">\n",
              "    <div class=\"colab-df-container\">\n",
              "      <div>\n",
              "<style scoped>\n",
              "    .dataframe tbody tr th:only-of-type {\n",
              "        vertical-align: middle;\n",
              "    }\n",
              "\n",
              "    .dataframe tbody tr th {\n",
              "        vertical-align: top;\n",
              "    }\n",
              "\n",
              "    .dataframe thead th {\n",
              "        text-align: right;\n",
              "    }\n",
              "</style>\n",
              "<table border=\"1\" class=\"dataframe\">\n",
              "  <thead>\n",
              "    <tr style=\"text-align: right;\">\n",
              "      <th></th>\n",
              "      <th>Date</th>\n",
              "      <th>Temp</th>\n",
              "    </tr>\n",
              "  </thead>\n",
              "  <tbody>\n",
              "    <tr>\n",
              "      <th>0</th>\n",
              "      <td>01/01/81</td>\n",
              "      <td>20.7</td>\n",
              "    </tr>\n",
              "    <tr>\n",
              "      <th>1</th>\n",
              "      <td>01/02/81</td>\n",
              "      <td>17.9</td>\n",
              "    </tr>\n",
              "    <tr>\n",
              "      <th>2</th>\n",
              "      <td>01/03/81</td>\n",
              "      <td>18.8</td>\n",
              "    </tr>\n",
              "    <tr>\n",
              "      <th>3</th>\n",
              "      <td>01/04/81</td>\n",
              "      <td>14.6</td>\n",
              "    </tr>\n",
              "    <tr>\n",
              "      <th>4</th>\n",
              "      <td>01/05/81</td>\n",
              "      <td>15.8</td>\n",
              "    </tr>\n",
              "  </tbody>\n",
              "</table>\n",
              "</div>\n",
              "      <button class=\"colab-df-convert\" onclick=\"convertToInteractive('df-cad8f982-4eca-44bd-a3cb-641d334a7c18')\"\n",
              "              title=\"Convert this dataframe to an interactive table.\"\n",
              "              style=\"display:none;\">\n",
              "        \n",
              "  <svg xmlns=\"http://www.w3.org/2000/svg\" height=\"24px\"viewBox=\"0 0 24 24\"\n",
              "       width=\"24px\">\n",
              "    <path d=\"M0 0h24v24H0V0z\" fill=\"none\"/>\n",
              "    <path d=\"M18.56 5.44l.94 2.06.94-2.06 2.06-.94-2.06-.94-.94-2.06-.94 2.06-2.06.94zm-11 1L8.5 8.5l.94-2.06 2.06-.94-2.06-.94L8.5 2.5l-.94 2.06-2.06.94zm10 10l.94 2.06.94-2.06 2.06-.94-2.06-.94-.94-2.06-.94 2.06-2.06.94z\"/><path d=\"M17.41 7.96l-1.37-1.37c-.4-.4-.92-.59-1.43-.59-.52 0-1.04.2-1.43.59L10.3 9.45l-7.72 7.72c-.78.78-.78 2.05 0 2.83L4 21.41c.39.39.9.59 1.41.59.51 0 1.02-.2 1.41-.59l7.78-7.78 2.81-2.81c.8-.78.8-2.07 0-2.86zM5.41 20L4 18.59l7.72-7.72 1.47 1.35L5.41 20z\"/>\n",
              "  </svg>\n",
              "      </button>\n",
              "      \n",
              "  <style>\n",
              "    .colab-df-container {\n",
              "      display:flex;\n",
              "      flex-wrap:wrap;\n",
              "      gap: 12px;\n",
              "    }\n",
              "\n",
              "    .colab-df-convert {\n",
              "      background-color: #E8F0FE;\n",
              "      border: none;\n",
              "      border-radius: 50%;\n",
              "      cursor: pointer;\n",
              "      display: none;\n",
              "      fill: #1967D2;\n",
              "      height: 32px;\n",
              "      padding: 0 0 0 0;\n",
              "      width: 32px;\n",
              "    }\n",
              "\n",
              "    .colab-df-convert:hover {\n",
              "      background-color: #E2EBFA;\n",
              "      box-shadow: 0px 1px 2px rgba(60, 64, 67, 0.3), 0px 1px 3px 1px rgba(60, 64, 67, 0.15);\n",
              "      fill: #174EA6;\n",
              "    }\n",
              "\n",
              "    [theme=dark] .colab-df-convert {\n",
              "      background-color: #3B4455;\n",
              "      fill: #D2E3FC;\n",
              "    }\n",
              "\n",
              "    [theme=dark] .colab-df-convert:hover {\n",
              "      background-color: #434B5C;\n",
              "      box-shadow: 0px 1px 3px 1px rgba(0, 0, 0, 0.15);\n",
              "      filter: drop-shadow(0px 1px 2px rgba(0, 0, 0, 0.3));\n",
              "      fill: #FFFFFF;\n",
              "    }\n",
              "  </style>\n",
              "\n",
              "      <script>\n",
              "        const buttonEl =\n",
              "          document.querySelector('#df-cad8f982-4eca-44bd-a3cb-641d334a7c18 button.colab-df-convert');\n",
              "        buttonEl.style.display =\n",
              "          google.colab.kernel.accessAllowed ? 'block' : 'none';\n",
              "\n",
              "        async function convertToInteractive(key) {\n",
              "          const element = document.querySelector('#df-cad8f982-4eca-44bd-a3cb-641d334a7c18');\n",
              "          const dataTable =\n",
              "            await google.colab.kernel.invokeFunction('convertToInteractive',\n",
              "                                                     [key], {});\n",
              "          if (!dataTable) return;\n",
              "\n",
              "          const docLinkHtml = 'Like what you see? Visit the ' +\n",
              "            '<a target=\"_blank\" href=https://colab.research.google.com/notebooks/data_table.ipynb>data table notebook</a>'\n",
              "            + ' to learn more about interactive tables.';\n",
              "          element.innerHTML = '';\n",
              "          dataTable['output_type'] = 'display_data';\n",
              "          await google.colab.output.renderOutput(dataTable, element);\n",
              "          const docLink = document.createElement('div');\n",
              "          docLink.innerHTML = docLinkHtml;\n",
              "          element.appendChild(docLink);\n",
              "        }\n",
              "      </script>\n",
              "    </div>\n",
              "  </div>\n",
              "  "
            ]
          },
          "metadata": {},
          "execution_count": 72
        }
      ]
    },
    {
      "cell_type": "code",
      "source": [
        "df.info()"
      ],
      "metadata": {
        "colab": {
          "base_uri": "https://localhost:8080/"
        },
        "id": "oSU7YYxBFRiP",
        "outputId": "c20303db-1cf8-4d2b-9bad-e613d7937fc5"
      },
      "execution_count": 73,
      "outputs": [
        {
          "output_type": "stream",
          "name": "stdout",
          "text": [
            "<class 'pandas.core.frame.DataFrame'>\n",
            "RangeIndex: 3650 entries, 0 to 3649\n",
            "Data columns (total 2 columns):\n",
            " #   Column  Non-Null Count  Dtype \n",
            "---  ------  --------------  ----- \n",
            " 0   Date    3650 non-null   object\n",
            " 1   Temp    3650 non-null   object\n",
            "dtypes: object(2)\n",
            "memory usage: 57.2+ KB\n"
          ]
        }
      ]
    },
    {
      "cell_type": "code",
      "source": [
        "#ubah tipe data kolom\n",
        "df['Temp'] = df['Temp'].apply(pd.to_numeric, errors='coerce')"
      ],
      "metadata": {
        "id": "pZ1Mqot7FXBO"
      },
      "execution_count": 74,
      "outputs": []
    },
    {
      "cell_type": "code",
      "source": [
        "df.isnull().sum()"
      ],
      "metadata": {
        "colab": {
          "base_uri": "https://localhost:8080/"
        },
        "id": "UnRQr_h7xJue",
        "outputId": "744ef3c4-e058-43f7-ba8a-763bded0c096"
      },
      "execution_count": 76,
      "outputs": [
        {
          "output_type": "execute_result",
          "data": {
            "text/plain": [
              "Date    0\n",
              "Temp    3\n",
              "dtype: int64"
            ]
          },
          "metadata": {},
          "execution_count": 76
        }
      ]
    },
    {
      "cell_type": "code",
      "source": [
        "df = df.dropna()"
      ],
      "metadata": {
        "id": "ArycVA7qFx-b"
      },
      "execution_count": 77,
      "outputs": []
    },
    {
      "cell_type": "code",
      "source": [
        "dates = df['Date'].values\n",
        "temp  = df['Temp'].values\n",
        " \n",
        " \n",
        "plt.figure(figsize=(15,5))\n",
        "plt.plot(dates, temp)\n",
        "plt.title('Temperature average',\n",
        "          fontsize=20);"
      ],
      "metadata": {
        "colab": {
          "base_uri": "https://localhost:8080/",
          "height": 341
        },
        "id": "uccGepH5wNLP",
        "outputId": "b990ec56-6d1c-404a-bf52-02c2c941bc29"
      },
      "execution_count": 78,
      "outputs": [
        {
          "output_type": "display_data",
          "data": {
            "text/plain": [
              "<Figure size 1080x360 with 1 Axes>"
            ],
            "image/png": "[encoded data removed]"
          },
          "metadata": {
            "needs_background": "light"
          }
        }
      ]
    },
    {
      "cell_type": "markdown",
      "source": [
        "#splitdata"
      ],
      "metadata": {
        "id": "WOb3J_vxw8xp"
      }
    },
    {
      "cell_type": "code",
      "source": [
        "num_latih = int(len(df) * 0.8)\n",
        "print(\"total data\", len(df))\n",
        "\n",
        "data_latih = df.iloc[0:num_latih]\n",
        "data_val = df.iloc[num_latih:]\n",
        "print(\"total latih\", len(data_latih))\n",
        "print(\"total val\", len(data_val))"
      ],
      "metadata": {
        "colab": {
          "base_uri": "https://localhost:8080/"
        },
        "id": "o6RHRelrw2iC",
        "outputId": "553ee160-1bd3-46b4-ee42-cd1ddc16ae5b"
      },
      "execution_count": 84,
      "outputs": [
        {
          "output_type": "stream",
          "name": "stdout",
          "text": [
            "total data 3647\n",
            "total latih 2917\n",
            "total val 730\n"
          ]
        }
      ]
    },
    {
      "cell_type": "code",
      "source": [
        "from sklearn.preprocessing import RobustScaler\n",
        "\n",
        "transformer = RobustScaler()\n",
        "temp_transformer = transformer.fit(latih[['Temp']])\n",
        "\n",
        "latih['Temp'] = temp_transformer.transform(latih[['Temp']])\n",
        "\n",
        "test['Temp'] = temp_transformer.transform(test[['Temp']])"
      ],
      "metadata": {
        "colab": {
          "base_uri": "https://localhost:8080/",
          "height": 416
        },
        "id": "pDw10CiqIi0i",
        "outputId": "ba8a5ec1-1632-49d9-cd03-7d10dc0f905b"
      },
      "execution_count": 85,
      "outputs": [
        {
          "output_type": "error",
          "ename": "ValueError",
          "evalue": "ignored",
          "traceback": [
            "\u001b[0;31m---------------------------------------------------------------------------\u001b[0m",
            "\u001b[0;31mValueError\u001b[0m                                Traceback (most recent call last)",
            "\u001b[0;32m<ipython-input-85-3205a3063832>\u001b[0m in \u001b[0;36m<module>\u001b[0;34m\u001b[0m\n\u001b[1;32m      2\u001b[0m \u001b[0;34m\u001b[0m\u001b[0m\n\u001b[1;32m      3\u001b[0m \u001b[0mtransformer\u001b[0m \u001b[0;34m=\u001b[0m \u001b[0mRobustScaler\u001b[0m\u001b[0;34m(\u001b[0m\u001b[0;34m)\u001b[0m\u001b[0;34m\u001b[0m\u001b[0;34m\u001b[0m\u001b[0m\n\u001b[0;32m----> 4\u001b[0;31m \u001b[0mtemp_transformer\u001b[0m \u001b[0;34m=\u001b[0m \u001b[0mtransformer\u001b[0m\u001b[0;34m.\u001b[0m\u001b[0mfit\u001b[0m\u001b[0;34m(\u001b[0m\u001b[0mlatih\u001b[0m\u001b[0;34m[\u001b[0m\u001b[0;34m[\u001b[0m\u001b[0;34m'Temp'\u001b[0m\u001b[0;34m]\u001b[0m\u001b[0;34m]\u001b[0m\u001b[0;34m)\u001b[0m\u001b[0;34m\u001b[0m\u001b[0;34m\u001b[0m\u001b[0m\n\u001b[0m\u001b[1;32m      5\u001b[0m \u001b[0;34m\u001b[0m\u001b[0m\n\u001b[1;32m      6\u001b[0m \u001b[0mlatih\u001b[0m\u001b[0;34m[\u001b[0m\u001b[0;34m'Temp'\u001b[0m\u001b[0;34m]\u001b[0m \u001b[0;34m=\u001b[0m \u001b[0mtemp_transformer\u001b[0m\u001b[0;34m.\u001b[0m\u001b[0mtransform\u001b[0m\u001b[0;34m(\u001b[0m\u001b[0mlatih\u001b[0m\u001b[0;34m[\u001b[0m\u001b[0;34m[\u001b[0m\u001b[0;34m'Temp'\u001b[0m\u001b[0;34m]\u001b[0m\u001b[0;34m]\u001b[0m\u001b[0;34m)\u001b[0m\u001b[0;34m\u001b[0m\u001b[0;34m\u001b[0m\u001b[0m\n",
            "\u001b[0;32m/usr/local/lib/python3.7/dist-packages/sklearn/preprocessing/_data.py\u001b[0m in \u001b[0;36mfit\u001b[0;34m(self, X, y)\u001b[0m\n\u001b[1;32m   1491\u001b[0m             \u001b[0mestimator\u001b[0m\u001b[0;34m=\u001b[0m\u001b[0mself\u001b[0m\u001b[0;34m,\u001b[0m\u001b[0;34m\u001b[0m\u001b[0;34m\u001b[0m\u001b[0m\n\u001b[1;32m   1492\u001b[0m             \u001b[0mdtype\u001b[0m\u001b[0;34m=\u001b[0m\u001b[0mFLOAT_DTYPES\u001b[0m\u001b[0;34m,\u001b[0m\u001b[0;34m\u001b[0m\u001b[0;34m\u001b[0m\u001b[0m\n\u001b[0;32m-> 1493\u001b[0;31m             \u001b[0mforce_all_finite\u001b[0m\u001b[0;34m=\u001b[0m\u001b[0;34m\"allow-nan\"\u001b[0m\u001b[0;34m,\u001b[0m\u001b[0;34m\u001b[0m\u001b[0;34m\u001b[0m\u001b[0m\n\u001b[0m\u001b[1;32m   1494\u001b[0m         )\n\u001b[1;32m   1495\u001b[0m \u001b[0;34m\u001b[0m\u001b[0m\n",
            "\u001b[0;32m/usr/local/lib/python3.7/dist-packages/sklearn/base.py\u001b[0m in \u001b[0;36m_validate_data\u001b[0;34m(self, X, y, reset, validate_separately, **check_params)\u001b[0m\n\u001b[1;32m    564\u001b[0m             \u001b[0;32mraise\u001b[0m \u001b[0mValueError\u001b[0m\u001b[0;34m(\u001b[0m\u001b[0;34m\"Validation should be done on X, y or both.\"\u001b[0m\u001b[0;34m)\u001b[0m\u001b[0;34m\u001b[0m\u001b[0;34m\u001b[0m\u001b[0m\n\u001b[1;32m    565\u001b[0m         \u001b[0;32melif\u001b[0m \u001b[0;32mnot\u001b[0m \u001b[0mno_val_X\u001b[0m \u001b[0;32mand\u001b[0m \u001b[0mno_val_y\u001b[0m\u001b[0;34m:\u001b[0m\u001b[0;34m\u001b[0m\u001b[0;34m\u001b[0m\u001b[0m\n\u001b[0;32m--> 566\u001b[0;31m             \u001b[0mX\u001b[0m \u001b[0;34m=\u001b[0m \u001b[0mcheck_array\u001b[0m\u001b[0;34m(\u001b[0m\u001b[0mX\u001b[0m\u001b[0;34m,\u001b[0m \u001b[0;34m**\u001b[0m\u001b[0mcheck_params\u001b[0m\u001b[0;34m)\u001b[0m\u001b[0;34m\u001b[0m\u001b[0;34m\u001b[0m\u001b[0m\n\u001b[0m\u001b[1;32m    567\u001b[0m             \u001b[0mout\u001b[0m \u001b[0;34m=\u001b[0m \u001b[0mX\u001b[0m\u001b[0;34m\u001b[0m\u001b[0;34m\u001b[0m\u001b[0m\n\u001b[1;32m    568\u001b[0m         \u001b[0;32melif\u001b[0m \u001b[0mno_val_X\u001b[0m \u001b[0;32mand\u001b[0m \u001b[0;32mnot\u001b[0m \u001b[0mno_val_y\u001b[0m\u001b[0;34m:\u001b[0m\u001b[0;34m\u001b[0m\u001b[0;34m\u001b[0m\u001b[0m\n",
            "\u001b[0;32m/usr/local/lib/python3.7/dist-packages/sklearn/utils/validation.py\u001b[0m in \u001b[0;36mcheck_array\u001b[0;34m(array, accept_sparse, accept_large_sparse, dtype, order, copy, force_all_finite, ensure_2d, allow_nd, ensure_min_samples, ensure_min_features, estimator)\u001b[0m\n\u001b[1;32m    806\u001b[0m                 \u001b[0;34m\"Found array with %d sample(s) (shape=%s) while a\"\u001b[0m\u001b[0;34m\u001b[0m\u001b[0;34m\u001b[0m\u001b[0m\n\u001b[1;32m    807\u001b[0m                 \u001b[0;34m\" minimum of %d is required%s.\"\u001b[0m\u001b[0;34m\u001b[0m\u001b[0;34m\u001b[0m\u001b[0m\n\u001b[0;32m--> 808\u001b[0;31m                 \u001b[0;34m%\u001b[0m \u001b[0;34m(\u001b[0m\u001b[0mn_samples\u001b[0m\u001b[0;34m,\u001b[0m \u001b[0marray\u001b[0m\u001b[0;34m.\u001b[0m\u001b[0mshape\u001b[0m\u001b[0;34m,\u001b[0m \u001b[0mensure_min_samples\u001b[0m\u001b[0;34m,\u001b[0m \u001b[0mcontext\u001b[0m\u001b[0;34m)\u001b[0m\u001b[0;34m\u001b[0m\u001b[0;34m\u001b[0m\u001b[0m\n\u001b[0m\u001b[1;32m    809\u001b[0m             )\n\u001b[1;32m    810\u001b[0m \u001b[0;34m\u001b[0m\u001b[0m\n",
            "\u001b[0;31mValueError\u001b[0m: Found array with 0 sample(s) (shape=(0, 1)) while a minimum of 1 is required by RobustScaler."
          ]
        }
      ]
    },
    {
      "cell_type": "code",
      "source": [
        "def windowed_dataset(series, window_size, batch_size, shuffle_buffer):\n",
        "    series = tf.expand_dims(series, axis=-1)\n",
        "    ds = tf.data.Dataset.from_tensor_slices(series)\n",
        "    ds = ds.window(window_size + 1, shift=1, drop_remainder=True)\n",
        "    ds = ds.flat_map(lambda w: w.batch(window_size + 1))\n",
        "    ds = ds.shuffle(shuffle_buffer)\n",
        "    ds = ds.map(lambda w: (w[:-1], w[-1:]))\n",
        "    return ds.batch(batch_size).prefetch(1)"
      ],
      "metadata": {
        "id": "djPbeGxGyV8B"
      },
      "execution_count": 86,
      "outputs": []
    },
    {
      "cell_type": "code",
      "source": [
        "latih_temp = data_latih['Temp'].values\n",
        "latih_set = windowed_dataset(\n",
        "    latih_temp,\n",
        "    window_size=60,\n",
        "    batch_size=100,\n",
        "    shuffle_buffer=1000\n",
        ")"
      ],
      "metadata": {
        "id": "08n0ksaFy727"
      },
      "execution_count": 87,
      "outputs": []
    },
    {
      "cell_type": "code",
      "source": [
        "val_temp = data_val['Temp'].values\n",
        "val_set = windowed_dataset(\n",
        "    val_temp,\n",
        "    window_size=60,\n",
        "    batch_size=10,\n",
        "    shuffle_buffer=1000\n",
        ")"
      ],
      "metadata": {
        "id": "5NfJaHO1zvNm"
      },
      "execution_count": 88,
      "outputs": []
    },
    {
      "cell_type": "markdown",
      "source": [
        "##modelling"
      ],
      "metadata": {
        "id": "h8wOt19u4dYm"
      }
    },
    {
      "cell_type": "code",
      "source": [
        "model = tf.keras.models.Sequential([\n",
        "  tf.keras.layers.LSTM(16, return_sequences=True),\n",
        "  tf.keras.layers.LSTM(32),\n",
        "  tf.keras.layers.Dense(64, activation=\"relu\"),\n",
        "  tf.keras.layers.Dropout(0.5),\n",
        "  tf.keras.layers.Dense(64, activation=\"relu\"),\n",
        "  tf.keras.layers.Dropout(0.5),\n",
        "  tf.keras.layers.Dense(1),\n",
        "])"
      ],
      "metadata": {
        "id": "ztBCI0OC0j0M"
      },
      "execution_count": 89,
      "outputs": []
    },
    {
      "cell_type": "code",
      "source": [
        "optimizer = tf.keras.optimizers.SGD(lr=1.0000e-04, momentum=0.9)\n",
        "model.compile(loss=tf.keras.losses.Huber(),\n",
        "              optimizer=tf.keras.optimizers.Adam(learning_rate=0.001),\n",
        "              metrics=[\"mae\"])"
      ],
      "metadata": {
        "id": "xlOZrbbE1jYg"
      },
      "execution_count": 91,
      "outputs": []
    },
    {
      "cell_type": "code",
      "source": [
        "threshold = (data_latih['Temp'].max()-data_latih['Temp'].min()) * 10/100\n",
        "print(\"threshold {:.3f}\".format(threshold))"
      ],
      "metadata": {
        "id": "rBjdbNyK3-PS",
        "colab": {
          "base_uri": "https://localhost:8080/"
        },
        "outputId": "c98cba75-3890-4f97-ac25-80ac38c4eeb1"
      },
      "execution_count": 92,
      "outputs": [
        {
          "output_type": "stream",
          "name": "stdout",
          "text": [
            "threshold 2.630\n"
          ]
        }
      ]
    },
    {
      "cell_type": "code",
      "source": [
        "class my_allback(tf.keras.callbacks.Callback):\n",
        "    def on_epoch_end(self, epoch, logs={}):\n",
        "        if(logs.get('mae') < threshold):\n",
        "            print(\"MAE has reached below 10%\")\n",
        "\n",
        "    def on_train_end(self, epoch, logs={}):\n",
        "        print('Done')\n",
        "\n",
        "callbacks = my_allback()"
      ],
      "metadata": {
        "id": "7igyJag40fqh"
      },
      "execution_count": 93,
      "outputs": []
    },
    {
      "cell_type": "code",
      "source": [
        "history = model.fit(\n",
        "    latih_set,\n",
        "    validation_data=val_set,\n",
        "    callbacks=[callbacks],\n",
        "    epochs=100,\n",
        "    verbose=1,\n",
        ")"
      ],
      "metadata": {
        "colab": {
          "base_uri": "https://localhost:8080/"
        },
        "id": "o-8EUyHH2DK2",
        "outputId": "10d2af9d-6f46-4a2e-b71e-60aa21c1d9fb"
      },
      "execution_count": 94,
      "outputs": [
        {
          "output_type": "stream",
          "name": "stdout",
          "text": [
            "Epoch 1/100\n",
            "29/29 [==============================] - 9s 145ms/step - loss: 8.7793 - mae: 9.2765 - val_loss: 5.0237 - val_mae: 5.5068\n",
            "Epoch 2/100\n",
            "29/29 [==============================] - 3s 95ms/step - loss: 3.9935 - mae: 4.4680 - val_loss: 2.9027 - val_mae: 3.3700\n",
            "Epoch 3/100\n",
            "29/29 [==============================] - 3s 94ms/step - loss: 3.5884 - mae: 4.0630 - val_loss: 2.6021 - val_mae: 3.0673\n",
            "Epoch 4/100\n",
            "29/29 [==============================] - 3s 95ms/step - loss: 3.1519 - mae: 3.6227 - val_loss: 1.7766 - val_mae: 2.2250\n",
            "Epoch 5/100\n",
            "29/29 [==============================] - 3s 92ms/step - loss: 2.8256 - mae: 3.2922 - val_loss: 1.6251 - val_mae: 2.0705\n",
            "Epoch 6/100\n",
            "29/29 [==============================] - 4s 121ms/step - loss: 2.7401 - mae: 3.2066 - val_loss: 1.5101 - val_mae: 1.9515\n",
            "Epoch 7/100\n",
            "29/29 [==============================] - 3s 96ms/step - loss: 2.5825 - mae: 3.0474 - val_loss: 1.6865 - val_mae: 2.1279\n",
            "Epoch 8/100\n",
            "29/29 [==============================] - 3s 98ms/step - loss: 2.5925 - mae: 3.0583 - val_loss: 1.5737 - val_mae: 2.0171\n",
            "Epoch 9/100\n",
            "29/29 [==============================] - 3s 94ms/step - loss: 2.5319 - mae: 2.9968 - val_loss: 1.5565 - val_mae: 1.9976\n",
            "Epoch 10/100\n",
            "29/29 [==============================] - 3s 97ms/step - loss: 2.5190 - mae: 2.9820 - val_loss: 1.4158 - val_mae: 1.8511\n",
            "Epoch 11/100\n",
            "29/29 [==============================] - 3s 98ms/step - loss: 2.4314 - mae: 2.8960 - val_loss: 1.6154 - val_mae: 2.0602\n",
            "Epoch 12/100\n",
            "29/29 [==============================] - 3s 93ms/step - loss: 2.4568 - mae: 2.9194 - val_loss: 1.5752 - val_mae: 2.0235\n",
            "Epoch 13/100\n",
            "29/29 [==============================] - 3s 95ms/step - loss: 2.3459 - mae: 2.8063 - val_loss: 1.4082 - val_mae: 1.8488\n",
            "Epoch 14/100\n",
            "29/29 [==============================] - 3s 93ms/step - loss: 2.3877 - mae: 2.8473 - val_loss: 1.5838 - val_mae: 2.0337\n",
            "Epoch 15/100\n",
            "29/29 [==============================] - 3s 94ms/step - loss: 2.3840 - mae: 2.8456 - val_loss: 1.4119 - val_mae: 1.8554\n",
            "Epoch 16/100\n",
            "29/29 [==============================] - 3s 97ms/step - loss: 2.3484 - mae: 2.8073 - val_loss: 1.4173 - val_mae: 1.8618\n",
            "Epoch 17/100\n",
            "29/29 [==============================] - 4s 130ms/step - loss: 2.3387 - mae: 2.7998 - val_loss: 1.3454 - val_mae: 1.7845\n",
            "Epoch 18/100\n",
            "29/29 [==============================] - 4s 122ms/step - loss: 2.3712 - mae: 2.8300 - val_loss: 1.3314 - val_mae: 1.7656\n",
            "Epoch 19/100\n",
            "29/29 [==============================] - 3s 101ms/step - loss: 2.4040 - mae: 2.8667 - val_loss: 1.4990 - val_mae: 1.9441\n",
            "Epoch 20/100\n",
            "29/29 [==============================] - 3s 95ms/step - loss: 2.3428 - mae: 2.8067 - val_loss: 1.3453 - val_mae: 1.7859\n",
            "Epoch 21/100\n",
            "29/29 [==============================] - 3s 96ms/step - loss: 2.2974 - mae: 2.7562 - val_loss: 1.3207 - val_mae: 1.7529\n",
            "Epoch 22/100\n",
            "29/29 [==============================] - 3s 96ms/step - loss: 2.3249 - mae: 2.7868 - val_loss: 1.4493 - val_mae: 1.8922\n",
            "Epoch 23/100\n",
            "29/29 [==============================] - 3s 100ms/step - loss: 2.2936 - mae: 2.7506 - val_loss: 1.4582 - val_mae: 1.9025\n",
            "Epoch 24/100\n",
            "29/29 [==============================] - 3s 100ms/step - loss: 2.2990 - mae: 2.7594 - val_loss: 1.4056 - val_mae: 1.8504\n",
            "Epoch 25/100\n",
            "29/29 [==============================] - 3s 97ms/step - loss: 2.2953 - mae: 2.7564 - val_loss: 1.3262 - val_mae: 1.7616\n",
            "Epoch 26/100\n",
            "29/29 [==============================] - 3s 98ms/step - loss: 2.2833 - mae: 2.7439 - val_loss: 1.3531 - val_mae: 1.7924\n",
            "Epoch 27/100\n",
            "29/29 [==============================] - 3s 97ms/step - loss: 2.2894 - mae: 2.7490 - val_loss: 1.4471 - val_mae: 1.8927\n",
            "Epoch 28/100\n",
            "29/29 [==============================] - 3s 97ms/step - loss: 2.2516 - mae: 2.7133 - val_loss: 1.3709 - val_mae: 1.8130\n",
            "Epoch 29/100\n",
            "29/29 [==============================] - 3s 104ms/step - loss: 2.2262 - mae: 2.6851 - val_loss: 1.4568 - val_mae: 1.9004\n",
            "Epoch 30/100\n",
            "29/29 [==============================] - 3s 101ms/step - loss: 2.1964 - mae: 2.6563 - val_loss: 1.3589 - val_mae: 1.8007\n",
            "Epoch 31/100\n",
            "29/29 [==============================] - 3s 96ms/step - loss: 2.2116 - mae: 2.6708 - val_loss: 1.3785 - val_mae: 1.8235\n",
            "Epoch 32/100\n",
            "29/29 [==============================] - 3s 96ms/step - loss: 2.2657 - mae: 2.7243 - val_loss: 1.4271 - val_mae: 1.8730\n",
            "Epoch 33/100\n",
            "29/29 [==============================] - ETA: 0s - loss: 2.1721 - mae: 2.6289MAE has reached below 10%\n",
            "29/29 [==============================] - 3s 94ms/step - loss: 2.1721 - mae: 2.6289 - val_loss: 1.3444 - val_mae: 1.7844\n",
            "Epoch 34/100\n",
            "29/29 [==============================] - 3s 94ms/step - loss: 2.2115 - mae: 2.6712 - val_loss: 1.3814 - val_mae: 1.8256\n",
            "Epoch 35/100\n",
            "29/29 [==============================] - 3s 95ms/step - loss: 2.2245 - mae: 2.6847 - val_loss: 1.3721 - val_mae: 1.8177\n",
            "Epoch 36/100\n",
            "29/29 [==============================] - 3s 97ms/step - loss: 2.1760 - mae: 2.6335 - val_loss: 1.4112 - val_mae: 1.8575\n",
            "Epoch 37/100\n",
            "29/29 [==============================] - ETA: 0s - loss: 2.1477 - mae: 2.6048MAE has reached below 10%\n",
            "29/29 [==============================] - 3s 98ms/step - loss: 2.1477 - mae: 2.6048 - val_loss: 1.3415 - val_mae: 1.7827\n",
            "Epoch 38/100\n",
            "29/29 [==============================] - ETA: 0s - loss: 2.1700 - mae: 2.6290MAE has reached below 10%\n",
            "29/29 [==============================] - 3s 97ms/step - loss: 2.1700 - mae: 2.6290 - val_loss: 1.3492 - val_mae: 1.7879\n",
            "Epoch 39/100\n",
            "29/29 [==============================] - 3s 98ms/step - loss: 2.1757 - mae: 2.6318 - val_loss: 1.4303 - val_mae: 1.8767\n",
            "Epoch 40/100\n",
            "29/29 [==============================] - 3s 96ms/step - loss: 2.1940 - mae: 2.6527 - val_loss: 1.3785 - val_mae: 1.8219\n",
            "Epoch 41/100\n",
            "29/29 [==============================] - ETA: 0s - loss: 2.0955 - mae: 2.5540MAE has reached below 10%\n",
            "29/29 [==============================] - 3s 98ms/step - loss: 2.0955 - mae: 2.5540 - val_loss: 1.4173 - val_mae: 1.8631\n",
            "Epoch 42/100\n",
            "29/29 [==============================] - ETA: 0s - loss: 2.0844 - mae: 2.5378MAE has reached below 10%\n",
            "29/29 [==============================] - 3s 100ms/step - loss: 2.0844 - mae: 2.5378 - val_loss: 1.4182 - val_mae: 1.8639\n",
            "Epoch 43/100\n",
            "29/29 [==============================] - ETA: 0s - loss: 2.1258 - mae: 2.5859MAE has reached below 10%\n",
            "29/29 [==============================] - 3s 98ms/step - loss: 2.1258 - mae: 2.5859 - val_loss: 1.3175 - val_mae: 1.7529\n",
            "Epoch 44/100\n",
            "29/29 [==============================] - ETA: 0s - loss: 2.1414 - mae: 2.6012MAE has reached below 10%\n",
            "29/29 [==============================] - 3s 96ms/step - loss: 2.1414 - mae: 2.6012 - val_loss: 1.3107 - val_mae: 1.7437\n",
            "Epoch 45/100\n",
            "29/29 [==============================] - ETA: 0s - loss: 2.1365 - mae: 2.5929MAE has reached below 10%\n",
            "29/29 [==============================] - 3s 97ms/step - loss: 2.1365 - mae: 2.5929 - val_loss: 1.3423 - val_mae: 1.7846\n",
            "Epoch 46/100\n",
            "29/29 [==============================] - ETA: 0s - loss: 2.1108 - mae: 2.5718MAE has reached below 10%\n",
            "29/29 [==============================] - 3s 96ms/step - loss: 2.1108 - mae: 2.5718 - val_loss: 1.3698 - val_mae: 1.8109\n",
            "Epoch 47/100\n",
            "29/29 [==============================] - ETA: 0s - loss: 2.0697 - mae: 2.5260MAE has reached below 10%\n",
            "29/29 [==============================] - 3s 96ms/step - loss: 2.0697 - mae: 2.5260 - val_loss: 1.3675 - val_mae: 1.8107\n",
            "Epoch 48/100\n",
            "29/29 [==============================] - ETA: 0s - loss: 2.1292 - mae: 2.5853MAE has reached below 10%\n",
            "29/29 [==============================] - 3s 94ms/step - loss: 2.1292 - mae: 2.5853 - val_loss: 1.3598 - val_mae: 1.8014\n",
            "Epoch 49/100\n",
            "29/29 [==============================] - ETA: 0s - loss: 2.0480 - mae: 2.5044MAE has reached below 10%\n",
            "29/29 [==============================] - 3s 95ms/step - loss: 2.0480 - mae: 2.5044 - val_loss: 1.3135 - val_mae: 1.7471\n",
            "Epoch 50/100\n",
            "29/29 [==============================] - ETA: 0s - loss: 2.0368 - mae: 2.4923MAE has reached below 10%\n",
            "29/29 [==============================] - 3s 95ms/step - loss: 2.0368 - mae: 2.4923 - val_loss: 1.3518 - val_mae: 1.7904\n",
            "Epoch 51/100\n",
            "29/29 [==============================] - ETA: 0s - loss: 2.0744 - mae: 2.5308MAE has reached below 10%\n",
            "29/29 [==============================] - 3s 98ms/step - loss: 2.0744 - mae: 2.5308 - val_loss: 1.3300 - val_mae: 1.7671\n",
            "Epoch 52/100\n",
            "29/29 [==============================] - ETA: 0s - loss: 2.0550 - mae: 2.5141MAE has reached below 10%\n",
            "29/29 [==============================] - 3s 97ms/step - loss: 2.0550 - mae: 2.5141 - val_loss: 1.3984 - val_mae: 1.8436\n",
            "Epoch 53/100\n",
            "29/29 [==============================] - ETA: 0s - loss: 2.1099 - mae: 2.5662MAE has reached below 10%\n",
            "29/29 [==============================] - 3s 95ms/step - loss: 2.1099 - mae: 2.5662 - val_loss: 1.4939 - val_mae: 1.9440\n",
            "Epoch 54/100\n",
            "29/29 [==============================] - ETA: 0s - loss: 2.0301 - mae: 2.4851MAE has reached below 10%\n",
            "29/29 [==============================] - 3s 95ms/step - loss: 2.0301 - mae: 2.4851 - val_loss: 1.3730 - val_mae: 1.8171\n",
            "Epoch 55/100\n",
            "29/29 [==============================] - ETA: 0s - loss: 2.0276 - mae: 2.4844MAE has reached below 10%\n",
            "29/29 [==============================] - 3s 95ms/step - loss: 2.0276 - mae: 2.4844 - val_loss: 1.4048 - val_mae: 1.8508\n",
            "Epoch 56/100\n",
            "29/29 [==============================] - ETA: 0s - loss: 2.0083 - mae: 2.4656MAE has reached below 10%\n",
            "29/29 [==============================] - 3s 95ms/step - loss: 2.0083 - mae: 2.4656 - val_loss: 1.3211 - val_mae: 1.7589\n",
            "Epoch 57/100\n",
            "29/29 [==============================] - ETA: 0s - loss: 2.0487 - mae: 2.5057MAE has reached below 10%\n",
            "29/29 [==============================] - 3s 96ms/step - loss: 2.0487 - mae: 2.5057 - val_loss: 1.3412 - val_mae: 1.7795\n",
            "Epoch 58/100\n",
            "29/29 [==============================] - ETA: 0s - loss: 2.0128 - mae: 2.4674MAE has reached below 10%\n",
            "29/29 [==============================] - 3s 97ms/step - loss: 2.0128 - mae: 2.4674 - val_loss: 1.4390 - val_mae: 1.8842\n",
            "Epoch 59/100\n",
            "29/29 [==============================] - ETA: 0s - loss: 2.0228 - mae: 2.4764MAE has reached below 10%\n",
            "29/29 [==============================] - 3s 96ms/step - loss: 2.0228 - mae: 2.4764 - val_loss: 1.3309 - val_mae: 1.7702\n",
            "Epoch 60/100\n",
            "29/29 [==============================] - ETA: 0s - loss: 1.9703 - mae: 2.4223MAE has reached below 10%\n",
            "29/29 [==============================] - 3s 96ms/step - loss: 1.9703 - mae: 2.4223 - val_loss: 1.4101 - val_mae: 1.8565\n",
            "Epoch 61/100\n",
            "29/29 [==============================] - ETA: 0s - loss: 2.0316 - mae: 2.4880MAE has reached below 10%\n",
            "29/29 [==============================] - 3s 97ms/step - loss: 2.0316 - mae: 2.4880 - val_loss: 1.3613 - val_mae: 1.8023\n",
            "Epoch 62/100\n",
            "29/29 [==============================] - ETA: 0s - loss: 1.9799 - mae: 2.4362MAE has reached below 10%\n",
            "29/29 [==============================] - 3s 99ms/step - loss: 1.9799 - mae: 2.4362 - val_loss: 1.3000 - val_mae: 1.7351\n",
            "Epoch 63/100\n",
            "29/29 [==============================] - ETA: 0s - loss: 2.0407 - mae: 2.4984MAE has reached below 10%\n",
            "29/29 [==============================] - 4s 130ms/step - loss: 2.0407 - mae: 2.4984 - val_loss: 1.3585 - val_mae: 1.7974\n",
            "Epoch 64/100\n",
            "29/29 [==============================] - ETA: 0s - loss: 2.0248 - mae: 2.4804MAE has reached below 10%\n",
            "29/29 [==============================] - 3s 95ms/step - loss: 2.0248 - mae: 2.4804 - val_loss: 1.4103 - val_mae: 1.8560\n",
            "Epoch 65/100\n",
            "29/29 [==============================] - ETA: 0s - loss: 1.9954 - mae: 2.4505MAE has reached below 10%\n",
            "29/29 [==============================] - 3s 97ms/step - loss: 1.9954 - mae: 2.4505 - val_loss: 1.3236 - val_mae: 1.7587\n",
            "Epoch 66/100\n",
            "29/29 [==============================] - ETA: 0s - loss: 2.0309 - mae: 2.4851MAE has reached below 10%\n",
            "29/29 [==============================] - 3s 99ms/step - loss: 2.0309 - mae: 2.4851 - val_loss: 1.3616 - val_mae: 1.8012\n",
            "Epoch 67/100\n",
            "29/29 [==============================] - ETA: 0s - loss: 1.9764 - mae: 2.4333MAE has reached below 10%\n",
            "29/29 [==============================] - 3s 99ms/step - loss: 1.9764 - mae: 2.4333 - val_loss: 1.3292 - val_mae: 1.7644\n",
            "Epoch 68/100\n",
            "29/29 [==============================] - ETA: 0s - loss: 2.0087 - mae: 2.4617MAE has reached below 10%\n",
            "29/29 [==============================] - 3s 96ms/step - loss: 2.0087 - mae: 2.4617 - val_loss: 1.3834 - val_mae: 1.8233\n",
            "Epoch 69/100\n",
            "29/29 [==============================] - ETA: 0s - loss: 1.9413 - mae: 2.3950MAE has reached below 10%\n",
            "29/29 [==============================] - 3s 97ms/step - loss: 1.9413 - mae: 2.3950 - val_loss: 1.3917 - val_mae: 1.8351\n",
            "Epoch 70/100\n",
            "29/29 [==============================] - ETA: 0s - loss: 2.0107 - mae: 2.4676MAE has reached below 10%\n",
            "29/29 [==============================] - 3s 95ms/step - loss: 2.0107 - mae: 2.4676 - val_loss: 1.3014 - val_mae: 1.7353\n",
            "Epoch 71/100\n",
            "29/29 [==============================] - ETA: 0s - loss: 1.9446 - mae: 2.3962MAE has reached below 10%\n",
            "29/29 [==============================] - 3s 96ms/step - loss: 1.9446 - mae: 2.3962 - val_loss: 1.3586 - val_mae: 1.7918\n",
            "Epoch 72/100\n",
            "29/29 [==============================] - ETA: 0s - loss: 1.9822 - mae: 2.4395MAE has reached below 10%\n",
            "29/29 [==============================] - 3s 95ms/step - loss: 1.9822 - mae: 2.4395 - val_loss: 1.3035 - val_mae: 1.7360\n",
            "Epoch 73/100\n",
            "29/29 [==============================] - ETA: 0s - loss: 1.9657 - mae: 2.4218MAE has reached below 10%\n",
            "29/29 [==============================] - 3s 96ms/step - loss: 1.9657 - mae: 2.4218 - val_loss: 1.4058 - val_mae: 1.8472\n",
            "Epoch 74/100\n",
            "29/29 [==============================] - ETA: 0s - loss: 1.9785 - mae: 2.4338MAE has reached below 10%\n",
            "29/29 [==============================] - 3s 96ms/step - loss: 1.9785 - mae: 2.4338 - val_loss: 1.2973 - val_mae: 1.7263\n",
            "Epoch 75/100\n",
            "29/29 [==============================] - ETA: 0s - loss: 1.9965 - mae: 2.4500MAE has reached below 10%\n",
            "29/29 [==============================] - 3s 98ms/step - loss: 1.9965 - mae: 2.4500 - val_loss: 1.3025 - val_mae: 1.7329\n",
            "Epoch 76/100\n",
            "29/29 [==============================] - ETA: 0s - loss: 1.9472 - mae: 2.4006MAE has reached below 10%\n",
            "29/29 [==============================] - 3s 95ms/step - loss: 1.9472 - mae: 2.4006 - val_loss: 1.3886 - val_mae: 1.8285\n",
            "Epoch 77/100\n",
            "29/29 [==============================] - ETA: 0s - loss: 1.9555 - mae: 2.4091MAE has reached below 10%\n",
            "29/29 [==============================] - 3s 97ms/step - loss: 1.9555 - mae: 2.4091 - val_loss: 1.3350 - val_mae: 1.7722\n",
            "Epoch 78/100\n",
            "29/29 [==============================] - ETA: 0s - loss: 1.9458 - mae: 2.4011MAE has reached below 10%\n",
            "29/29 [==============================] - 3s 95ms/step - loss: 1.9458 - mae: 2.4011 - val_loss: 1.3359 - val_mae: 1.7727\n",
            "Epoch 79/100\n",
            "29/29 [==============================] - ETA: 0s - loss: 1.9713 - mae: 2.4259MAE has reached below 10%\n",
            "29/29 [==============================] - 3s 97ms/step - loss: 1.9713 - mae: 2.4259 - val_loss: 1.4217 - val_mae: 1.8631\n",
            "Epoch 80/100\n",
            "29/29 [==============================] - ETA: 0s - loss: 1.9535 - mae: 2.4082MAE has reached below 10%\n",
            "29/29 [==============================] - 3s 97ms/step - loss: 1.9535 - mae: 2.4082 - val_loss: 1.3512 - val_mae: 1.7837\n",
            "Epoch 81/100\n",
            "29/29 [==============================] - ETA: 0s - loss: 1.9991 - mae: 2.4581MAE has reached below 10%\n",
            "29/29 [==============================] - 3s 96ms/step - loss: 1.9991 - mae: 2.4581 - val_loss: 1.3207 - val_mae: 1.7503\n",
            "Epoch 82/100\n",
            "29/29 [==============================] - ETA: 0s - loss: 1.9299 - mae: 2.3841MAE has reached below 10%\n",
            "29/29 [==============================] - 3s 95ms/step - loss: 1.9299 - mae: 2.3841 - val_loss: 1.3313 - val_mae: 1.7662\n",
            "Epoch 83/100\n",
            "29/29 [==============================] - ETA: 0s - loss: 1.9275 - mae: 2.3819MAE has reached below 10%\n",
            "29/29 [==============================] - 3s 96ms/step - loss: 1.9275 - mae: 2.3819 - val_loss: 1.3384 - val_mae: 1.7737\n",
            "Epoch 84/100\n",
            "29/29 [==============================] - ETA: 0s - loss: 2.0032 - mae: 2.4580MAE has reached below 10%\n",
            "29/29 [==============================] - 3s 97ms/step - loss: 2.0032 - mae: 2.4580 - val_loss: 1.3341 - val_mae: 1.7657\n",
            "Epoch 85/100\n",
            "29/29 [==============================] - ETA: 0s - loss: 1.9241 - mae: 2.3797MAE has reached below 10%\n",
            "29/29 [==============================] - 3s 96ms/step - loss: 1.9241 - mae: 2.3797 - val_loss: 1.3798 - val_mae: 1.8164\n",
            "Epoch 86/100\n",
            "29/29 [==============================] - ETA: 0s - loss: 1.9096 - mae: 2.3660MAE has reached below 10%\n",
            "29/29 [==============================] - 3s 97ms/step - loss: 1.9096 - mae: 2.3660 - val_loss: 1.3155 - val_mae: 1.7485\n",
            "Epoch 87/100\n",
            "29/29 [==============================] - ETA: 0s - loss: 1.9641 - mae: 2.4188MAE has reached below 10%\n",
            "29/29 [==============================] - 3s 97ms/step - loss: 1.9641 - mae: 2.4188 - val_loss: 1.3417 - val_mae: 1.7764\n",
            "Epoch 88/100\n",
            "29/29 [==============================] - ETA: 0s - loss: 1.9282 - mae: 2.3821MAE has reached below 10%\n",
            "29/29 [==============================] - 3s 96ms/step - loss: 1.9282 - mae: 2.3821 - val_loss: 1.3675 - val_mae: 1.8024\n",
            "Epoch 89/100\n",
            "29/29 [==============================] - ETA: 0s - loss: 1.9268 - mae: 2.3832MAE has reached below 10%\n",
            "29/29 [==============================] - 3s 97ms/step - loss: 1.9268 - mae: 2.3832 - val_loss: 1.3246 - val_mae: 1.7575\n",
            "Epoch 90/100\n",
            "29/29 [==============================] - ETA: 0s - loss: 1.9280 - mae: 2.3813MAE has reached below 10%\n",
            "29/29 [==============================] - 3s 97ms/step - loss: 1.9280 - mae: 2.3813 - val_loss: 1.3028 - val_mae: 1.7332\n",
            "Epoch 91/100\n",
            "29/29 [==============================] - ETA: 0s - loss: 1.9598 - mae: 2.4183MAE has reached below 10%\n",
            "29/29 [==============================] - 3s 94ms/step - loss: 1.9598 - mae: 2.4183 - val_loss: 1.2954 - val_mae: 1.7290\n",
            "Epoch 92/100\n",
            "29/29 [==============================] - ETA: 0s - loss: 1.9327 - mae: 2.3860MAE has reached below 10%\n",
            "29/29 [==============================] - 3s 95ms/step - loss: 1.9327 - mae: 2.3860 - val_loss: 1.3414 - val_mae: 1.7760\n",
            "Epoch 93/100\n",
            "29/29 [==============================] - ETA: 0s - loss: 1.9537 - mae: 2.4079MAE has reached below 10%\n",
            "29/29 [==============================] - 3s 96ms/step - loss: 1.9537 - mae: 2.4079 - val_loss: 1.3605 - val_mae: 1.7951\n",
            "Epoch 94/100\n",
            "29/29 [==============================] - ETA: 0s - loss: 1.9419 - mae: 2.3967MAE has reached below 10%\n",
            "29/29 [==============================] - 3s 96ms/step - loss: 1.9419 - mae: 2.3967 - val_loss: 1.3034 - val_mae: 1.7406\n",
            "Epoch 95/100\n",
            "29/29 [==============================] - ETA: 0s - loss: 1.8943 - mae: 2.3467MAE has reached below 10%\n",
            "29/29 [==============================] - 3s 99ms/step - loss: 1.8943 - mae: 2.3467 - val_loss: 1.3074 - val_mae: 1.7448\n",
            "Epoch 96/100\n",
            "29/29 [==============================] - ETA: 0s - loss: 1.9318 - mae: 2.3869MAE has reached below 10%\n",
            "29/29 [==============================] - 3s 97ms/step - loss: 1.9318 - mae: 2.3869 - val_loss: 1.3794 - val_mae: 1.8131\n",
            "Epoch 97/100\n",
            "29/29 [==============================] - ETA: 0s - loss: 1.9120 - mae: 2.3633MAE has reached below 10%\n",
            "29/29 [==============================] - 3s 96ms/step - loss: 1.9120 - mae: 2.3633 - val_loss: 1.3237 - val_mae: 1.7603\n",
            "Epoch 98/100\n",
            "29/29 [==============================] - ETA: 0s - loss: 1.9159 - mae: 2.3692MAE has reached below 10%\n",
            "29/29 [==============================] - 3s 96ms/step - loss: 1.9159 - mae: 2.3692 - val_loss: 1.3253 - val_mae: 1.7545\n",
            "Epoch 99/100\n",
            "29/29 [==============================] - ETA: 0s - loss: 1.9151 - mae: 2.3684MAE has reached below 10%\n",
            "29/29 [==============================] - 3s 98ms/step - loss: 1.9151 - mae: 2.3684 - val_loss: 1.3817 - val_mae: 1.8177\n",
            "Epoch 100/100\n",
            "29/29 [==============================] - ETA: 0s - loss: 1.9110 - mae: 2.3639MAE has reached below 10%\n",
            "29/29 [==============================] - 3s 96ms/step - loss: 1.9110 - mae: 2.3639 - val_loss: 1.3302 - val_mae: 1.7604\n",
            "Done\n"
          ]
        }
      ]
    }
  ]
}